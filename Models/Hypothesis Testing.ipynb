{
 "cells": [
  {
   "cell_type": "markdown",
   "id": "05081525-368b-4414-8ce7-8b4b07f57c63",
   "metadata": {},
   "source": [
    "#### Import Libaries"
   ]
  },
  {
   "cell_type": "code",
   "execution_count": 55,
   "id": "d1c9833d-e58f-4738-b479-c4ded8726584",
   "metadata": {},
   "outputs": [],
   "source": [
    "import numpy as np\n",
    "import pandas as pd\n",
    "import matplotlib.pyplot as plt\n",
    "import seaborn as sns\n",
    "import scipy.stats as stats\n",
    "import plotly.express as px"
   ]
  },
  {
   "cell_type": "markdown",
   "id": "68ffc0ae-97a3-4244-a07e-7a5026020021",
   "metadata": {},
   "source": [
    "#### Load the data"
   ]
  },
  {
   "cell_type": "code",
   "execution_count": 7,
   "id": "dd9925df-b207-44ff-a89d-0eba5d614507",
   "metadata": {},
   "outputs": [],
   "source": [
    "df = pd.read_csv(\"Churn_Modelling.csv\")"
   ]
  },
  {
   "cell_type": "markdown",
   "id": "7cb46bf5-ff4c-47e1-a2b2-34f50cdd795a",
   "metadata": {},
   "source": [
    "#### Geographic Distribution of Churn\n",
    "\n",
    "Null Hypothesis (H0): Churn rates are the same across different geographies.<br>\n",
    "Alternative Hypothesis (H1): Churn rates differ across geographies."
   ]
  },
  {
   "cell_type": "code",
   "execution_count": 53,
   "id": "a2861201-7db7-4692-8adf-36975549ade4",
   "metadata": {},
   "outputs": [
    {
     "name": "stdout",
     "output_type": "stream",
     "text": [
      "Exited        0    1\n",
      "Geography           \n",
      "France     4204  810\n",
      "Germany    1695  815\n",
      "Spain      2064  413\n",
      "\n",
      "\n",
      "Chi-Square Test: chi2 = 302.26368202943, p-value = 0.0\n",
      "\n",
      "\n",
      "Reject the null hypothesis: Churn rates differ across geographies.\n"
     ]
    }
   ],
   "source": [
    "contingency_table = pd.crosstab(df['Geography'], df['Exited'])\n",
    "print(contingency_table)\n",
    "\n",
    "print(\"\\n\")\n",
    "chi2, p, dof, ex = stats.chi2_contingency(contingency_table)\n",
    "p = float(\"{:.50f}\".format(p))\n",
    "print(f\"Chi-Square Test: chi2 = {chi2}, p-value = {p}\")\n",
    "\n",
    "print(\"\\n\")\n",
    "if p < 0.05:\n",
    "    print(\"Reject the null hypothesis: Churn rates differ across geographies.\")\n",
    "else:\n",
    "    print(\"Fail to reject the null hypothesis: Churn rates are the same across geographies.\")"
   ]
  },
  {
   "cell_type": "markdown",
   "id": "de8fba72-349f-40e7-a22c-717be4d498b6",
   "metadata": {},
   "source": [
    "<br>\n",
    "<br>"
   ]
  },
  {
   "cell_type": "markdown",
   "id": "36678e92-4dd5-43a5-be08-554205ef04df",
   "metadata": {},
   "source": [
    "#### Age and Customer Churn\n",
    "\n",
    "Null Hypothesis (H0): There is no difference in age between churned and non-churned customers.<br>\n",
    "Alternative Hypothesis (H1): There is a difference in age between churned and non-churned customers."
   ]
  },
  {
   "cell_type": "code",
   "execution_count": 34,
   "id": "95e7f46a-ddc0-495f-949f-b454a9bc2541",
   "metadata": {},
   "outputs": [
    {
     "name": "stdout",
     "output_type": "stream",
     "text": [
      "T-Test: t-statistic = nan, p-value = nan\n",
      "\n",
      "Fail to reject the null hypothesis: No significant difference in age between churned and non-churned customers.\n"
     ]
    }
   ],
   "source": [
    "churned = df[df['Exited'] == 1]['Age']\n",
    "non_churned = df[df['Exited'] == 0]['Age']\n",
    "\n",
    "t_stat, p_val = stats.ttest_ind(churned, non_churned)\n",
    "\n",
    "print(f\"T-Test: t-statistic = {t_stat}, p-value = {p_val}\\n\")\n",
    "if p_val < 0.05:\n",
    "    print(\"Reject the null hypothesis: There is a difference in age between churned and non-churned customers.\")\n",
    "else:\n",
    "    print(\"Fail to reject the null hypothesis: No significant difference in age between churned and non-churned customers.\")"
   ]
  },
  {
   "cell_type": "markdown",
   "id": "9eb4f1cc-54b5-4eb3-a370-bf7fc2b36be7",
   "metadata": {},
   "source": [
    "<br>\n",
    "<br>"
   ]
  },
  {
   "cell_type": "markdown",
   "id": "b177210d-19de-4041-92f5-dd5185d267d9",
   "metadata": {},
   "source": [
    "#### Credit Score and Churn Rate\n",
    "\n",
    "Null Hypothesis (H0): There is no correlation between credit score and churn. <br>\n",
    "Alternative Hypothesis (H1): There is a correlation between credit score and churn."
   ]
  },
  {
   "cell_type": "code",
   "execution_count": 35,
   "id": "46bb944d-c0c5-457a-a587-4b132a41ab20",
   "metadata": {},
   "outputs": [
    {
     "name": "stdout",
     "output_type": "stream",
     "text": [
      "Pearson Correlation: correlation = -0.026908506171037905, p-value = 0.007118042877179715\n",
      "\n",
      "Reject the null hypothesis: There is a correlation between credit score and churn.\n"
     ]
    }
   ],
   "source": [
    "corr, p_val = stats.pearsonr(df['CreditScore'], df['Exited'])\n",
    "\n",
    "print(f\"Pearson Correlation: correlation = {corr}, p-value = {p_val}\\n\")\n",
    "if p_val < 0.05:\n",
    "    print(\"Reject the null hypothesis: There is a correlation between credit score and churn.\")\n",
    "else:\n",
    "    print(\"Fail to reject the null hypothesis: No significant correlation between credit score and churn.\")\n"
   ]
  },
  {
   "cell_type": "markdown",
   "id": "ddce910f-a8fe-4b29-8fd3-e0b5bf4b5ca8",
   "metadata": {},
   "source": [
    "<br>\n",
    "<br>"
   ]
  },
  {
   "cell_type": "markdown",
   "id": "3ab0d334-121b-436a-b18a-05d653d1a424",
   "metadata": {},
   "source": [
    "#### Balance and Customer Churn\n",
    "\n",
    "Null Hypothesis (H0): There is no difference in balance between churned and non-churned customers.<br>\n",
    "Alternative Hypothesis (H1): There is a difference in balance between churned and non-churned customers."
   ]
  },
  {
   "cell_type": "code",
   "execution_count": 36,
   "id": "fba163f1-d324-4b40-b586-3c6bdc56f4ca",
   "metadata": {},
   "outputs": [
    {
     "name": "stdout",
     "output_type": "stream",
     "text": [
      "T-Test: t-statistic = 11.929566470979756, p-value = 1.3803689194402165e-32\n",
      "\n",
      "Reject the null hypothesis: There is a difference in balance between churned and non-churned customers.\n"
     ]
    }
   ],
   "source": [
    "churned = df[df['Exited'] == 1]['Balance']\n",
    "non_churned = df[df['Exited'] == 0]['Balance']\n",
    "\n",
    "# T-test\n",
    "t_stat, p_val = stats.ttest_ind(churned, non_churned)\n",
    "\n",
    "print(f\"T-Test: t-statistic = {t_stat}, p-value = {p_val}\\n\")\n",
    "if p_val < 0.05:\n",
    "    print(\"Reject the null hypothesis: There is a difference in balance between churned and non-churned customers.\")\n",
    "else:\n",
    "    print(\"Fail to reject the null hypothesis: No significant difference in balance between churned and non-churned customers.\")\n"
   ]
  },
  {
   "cell_type": "markdown",
   "id": "4c267565-40ec-4d74-bfa8-c66fdfe16ab3",
   "metadata": {},
   "source": [
    "<br>\n",
    "<br>"
   ]
  },
  {
   "cell_type": "code",
   "execution_count": 37,
   "id": "b89c055f-0279-452c-a024-89db7b74bda2",
   "metadata": {},
   "outputs": [
    {
     "name": "stdout",
     "output_type": "stream",
     "text": [
      "Chi-Square Test: chi2 = 1501.731218374043, p-value = 0.0\n",
      "\n",
      "Reject the null hypothesis: Churn rates differ across different numbers of products held.\n"
     ]
    }
   ],
   "source": [
    "contingency_table = pd.crosstab(df['NumOfProducts'], df['Exited'])\n",
    "chi2, p, dof, ex = stats.chi2_contingency(contingency_table)\n",
    "\n",
    "\n",
    "print(f\"Chi-Square Test: chi2 = {chi2}, p-value = {p}\\n\")\n",
    "if p < 0.05:\n",
    "    print(\"Reject the null hypothesis: Churn rates differ across different numbers of products held.\")\n",
    "else:\n",
    "    print(\"Fail to reject the null hypothesis: Churn rates are the same across different numbers of products held.\")\n"
   ]
  },
  {
   "cell_type": "markdown",
   "id": "35544c2d-d7a8-4baf-9ee6-31ed126e441a",
   "metadata": {},
   "source": [
    "<br>\n",
    "<br>"
   ]
  },
  {
   "cell_type": "markdown",
   "id": "fbaf88ba-7918-49ee-bccf-0a2daff7e0cd",
   "metadata": {},
   "source": [
    "#### Impact of Credit Card Ownership on Churn\n",
    "\n",
    "Null Hypothesis (H0): Churn rates are the same regardless of credit card ownership.<br>\n",
    "Alternative Hypothesis (H1): Churn rates differ based on credit card ownership."
   ]
  },
  {
   "cell_type": "code",
   "execution_count": 38,
   "id": "f07d43a0-b958-463e-8bb2-3b61996ca378",
   "metadata": {},
   "outputs": [
    {
     "name": "stdout",
     "output_type": "stream",
     "text": [
      "Chi-Square Test: chi2 = 0.4538116222050993, p-value = 0.5005304116181003\n",
      "\n",
      "Fail to reject the null hypothesis: Churn rates are the same regardless of credit card ownership.\n"
     ]
    }
   ],
   "source": [
    "contingency_table = pd.crosstab(df['HasCrCard'], df['Exited'])\n",
    "\n",
    "chi2, p, dof, ex = stats.chi2_contingency(contingency_table)\n",
    "\n",
    "print(f\"Chi-Square Test: chi2 = {chi2}, p-value = {p}\\n\")\n",
    "if p < 0.05:\n",
    "    print(\"Reject the null hypothesis: Churn rates differ based on credit card ownership.\")\n",
    "else:\n",
    "    print(\"Fail to reject the null hypothesis: Churn rates are the same regardless of credit card ownership.\")\n"
   ]
  },
  {
   "cell_type": "markdown",
   "id": "ac368909-fbed-4fca-8d1a-f56a4c53afe3",
   "metadata": {},
   "source": [
    "<br>\n",
    "<br>"
   ]
  },
  {
   "cell_type": "markdown",
   "id": "c977ed6f-2b62-4c43-ad98-2dea3094511c",
   "metadata": {},
   "source": [
    "#### Active Membership and Churn\n",
    "\n",
    "Null Hypothesis (H0): Churn rates are the same regardless of active membership.<br>\n",
    "Alternative Hypothesis (H1): Churn rates differ based on active membership."
   ]
  },
  {
   "cell_type": "code",
   "execution_count": 39,
   "id": "83b23dea-8387-441b-80ec-05e27cde40b6",
   "metadata": {},
   "outputs": [
    {
     "name": "stdout",
     "output_type": "stream",
     "text": [
      "Chi-Square Test: chi2 = 243.20556280578884, p-value = 7.866266336234955e-55\n",
      "\n",
      "Reject the null hypothesis: Churn rates differ based on active membership.\n"
     ]
    }
   ],
   "source": [
    "contingency_table = pd.crosstab(df['IsActiveMember'], df['Exited'])\n",
    "chi2, p, dof, ex = stats.chi2_contingency(contingency_table)\n",
    "\n",
    "print(f\"Chi-Square Test: chi2 = {chi2}, p-value = {p}\\n\")\n",
    "if p < 0.05:\n",
    "    print(\"Reject the null hypothesis: Churn rates differ based on active membership.\")\n",
    "else:\n",
    "    print(\"Fail to reject the null hypothesis: Churn rates are the same regardless of active membership.\")\n"
   ]
  },
  {
   "cell_type": "markdown",
   "id": "e7fd1d97-6b45-4510-9f59-6fdbd92874b9",
   "metadata": {},
   "source": [
    "<br>\n",
    "<br>"
   ]
  },
  {
   "cell_type": "markdown",
   "id": "732bbee6-2b56-4cf9-a05c-5c4a8c40c2a7",
   "metadata": {},
   "source": [
    "#### Tenure and Customer Churn\n",
    "\n",
    "Null Hypothesis (H0): There is no difference in tenure between churned and non-churned customers.<br>\n",
    "Alternative Hypothesis (H1): There is a difference in tenure between churned and non-churned customers."
   ]
  },
  {
   "cell_type": "code",
   "execution_count": 40,
   "id": "22ff825d-e079-41f9-bc36-3a10562c3994",
   "metadata": {},
   "outputs": [
    {
     "name": "stdout",
     "output_type": "stream",
     "text": [
      "T-Test: t-statistic = -1.411853051886773, p-value = 0.15802434865441628\n",
      "\n",
      "Fail to reject the null hypothesis: No significant difference in tenure between churned and non-churned customers.\n"
     ]
    }
   ],
   "source": [
    "churned = df[df['Exited'] == 1]['Tenure']\n",
    "non_churned = df[df['Exited'] == 0]['Tenure']\n",
    "\n",
    "# T-test\n",
    "t_stat, p_val = stats.ttest_ind(churned, non_churned)\n",
    "\n",
    "print(f\"T-Test: t-statistic = {t_stat}, p-value = {p_val}\\n\")\n",
    "if p_val < 0.05:\n",
    "    print(\"Reject the null hypothesis: There is a difference in tenure between churned and non-churned customers.\")\n",
    "else:\n",
    "    print(\"Fail to reject the null hypothesis: No significant difference in tenure between churned and non-churned customers.\")\n"
   ]
  },
  {
   "cell_type": "markdown",
   "id": "a967fc1e-1ea6-48a6-a135-821b919bdd5b",
   "metadata": {},
   "source": [
    "#### Estimated Salary and Customer Churn\n",
    "\n",
    "Null Hypothesis (H0): There is no difference in estimated salary between churned and non-churned customers.<br>\n",
    "Alternative Hypothesis (H1): There is a difference in estimated salary between churned and non-churned customers."
   ]
  },
  {
   "cell_type": "code",
   "execution_count": 41,
   "id": "94d95fa3-c11e-4d45-bbeb-966940321cd3",
   "metadata": {},
   "outputs": [
    {
     "name": "stdout",
     "output_type": "stream",
     "text": [
      "T-Test: t-statistic = 1.2124213491979505, p-value = 0.2253797753825045\n",
      "\n",
      "Fail to reject the null hypothesis: No significant difference in estimated salary between churned and non-churned customers.\n"
     ]
    }
   ],
   "source": [
    "\n",
    "churned = df[df['Exited'] == 1]['EstimatedSalary']\n",
    "non_churned = df[df['Exited'] == 0]['EstimatedSalary']\n",
    "\n",
    "# T-test\n",
    "t_stat, p_val = stats.ttest_ind(churned, non_churned)\n",
    "\n",
    "print(f\"T-Test: t-statistic = {t_stat}, p-value = {p_val}\\n\")\n",
    "if p_val < 0.05:\n",
    "    print(\"Reject the null hypothesis: There is a difference in estimated salary between churned and non-churned customers.\")\n",
    "else:\n",
    "    print(\"Fail to reject the null hypothesis: No significant difference in estimated salary between churned and non-churned customers.\")\n"
   ]
  },
  {
   "cell_type": "markdown",
   "id": "4270ae64-460f-4441-acb8-d0cdba7a8b6e",
   "metadata": {},
   "source": [
    "<br>\n",
    "<br>"
   ]
  },
  {
   "cell_type": "markdown",
   "id": "88ab2aa6-fda8-427a-9a16-e10b5ae7264c",
   "metadata": {},
   "source": [
    "#### Gender and Customer Churn\n",
    "\n",
    "Null Hypothesis (H0): Churn rates are the same across genders.<br>\n",
    "Alternative Hypothesis (H1): Churn rates differ across genders."
   ]
  },
  {
   "cell_type": "code",
   "execution_count": 42,
   "id": "d299123f-172c-4559-a76f-c6ca67e68716",
   "metadata": {},
   "outputs": [
    {
     "name": "stdout",
     "output_type": "stream",
     "text": [
      "Chi-Square Test: chi2 = 112.37073626834965, p-value = 2.963709957332313e-26\n",
      "\n",
      "Reject the null hypothesis: Churn rates differ across genders.\n"
     ]
    }
   ],
   "source": [
    "contingency_table = pd.crosstab(df['Gender'], df['Exited'])\n",
    "\n",
    "# Chi-Square test\n",
    "chi2, p, dof, ex = stats.chi2_contingency(contingency_table)\n",
    "\n",
    "print(f\"Chi-Square Test: chi2 = {chi2}, p-value = {p}\\n\")\n",
    "if p < 0.05:\n",
    "    print(\"Reject the null hypothesis: Churn rates differ across genders.\")\n",
    "else:\n",
    "    print(\"Fail to reject the null hypothesis: Churn rates are the same across genders.\")\n"
   ]
  },
  {
   "cell_type": "code",
   "execution_count": null,
   "id": "c1d67262-85e4-4bbd-9c9f-d469f5aa9940",
   "metadata": {},
   "outputs": [],
   "source": []
  }
 ],
 "metadata": {
  "kernelspec": {
   "display_name": "Python 3 (ipykernel)",
   "language": "python",
   "name": "python3"
  },
  "language_info": {
   "codemirror_mode": {
    "name": "ipython",
    "version": 3
   },
   "file_extension": ".py",
   "mimetype": "text/x-python",
   "name": "python",
   "nbconvert_exporter": "python",
   "pygments_lexer": "ipython3",
   "version": "3.11.4"
  }
 },
 "nbformat": 4,
 "nbformat_minor": 5
}
